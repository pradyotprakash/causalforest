{
 "cells": [
  {
   "cell_type": "code",
   "execution_count": 1,
   "metadata": {},
   "outputs": [
    {
     "name": "stderr",
     "output_type": "stream",
     "text": [
      "Loading required package: rpart\n",
      "Loading required package: rpart.plot\n",
      "Loading required package: data.table\n"
     ]
    }
   ],
   "source": [
    "library(causalTree)\n",
    "\n",
    "# set global parameters\n",
    "minsize.temp = 40\n",
    "split.Bucket.temp = T\n",
    "bucketNum.temp = 10\n",
    "bucketMax.temp = 100\n",
    "\n",
    "# Do causal tree estimation\n",
    "split.Rule.temp = \"CT\" #CT\n",
    "cv.option.temp = \"CT\" #CT\n",
    "split.Honest.temp = T\n",
    "cv.Honest.temp = T\n",
    "split.alpha.temp = .5\n",
    "cv.alpha.temp = .5\n",
    "xvalsize = 10\n",
    "cp.temp = 0\n",
    "\n",
    "get_causal_tree <- function(forml, dataTrain){\n",
    "    if(.Platform$OS.type == \"unix\"){\n",
    "        sink(\"/dev/null\");\n",
    "    }\n",
    "    else{\n",
    "        sink(\"nul\");\n",
    "    }\n",
    "\n",
    "    tree <- causalTree(as.formula(forml), data = dataTrain, treatment = dataTrain$w,\n",
    "                     split.Rule=split.Rule.temp, split.Honest=T, split.Bucket=split.Bucket.temp, bucketNum = bucketNum.temp, \n",
    "                     bucketMax = bucketMax.temp, cv.option=cv.option.temp, cv.Honest=cv.Honest.temp, minsize = minsize.temp, \n",
    "                     split.alpha = split.alpha.temp, cv.alpha = cv.alpha.temp, xval=xvalsize, cp = cp.temp)\n",
    "    sink();\n",
    "    tree\n",
    "}"
   ]
  },
  {
   "cell_type": "code",
   "execution_count": 2,
   "metadata": {},
   "outputs": [],
   "source": [
    "remove_na <- function(data, vec){\n",
    "    for(v in vec){\n",
    "        tmp <- data[[v]]\n",
    "        data <- data[!is.na(tmp),]\n",
    "    }\n",
    "    data\n",
    "}"
   ]
  },
  {
   "cell_type": "code",
   "execution_count": 3,
   "metadata": {},
   "outputs": [],
   "source": [
    "get_treatment_effect <- function(data_, indices, outcome_var){\n",
    "    relevant_data <- data_[indices,]\n",
    "\n",
    "    # the block probabilities can be introduced here to normalize things\n",
    "    # will need to supply them based on some measure\n",
    "    treatment_values <- relevant_data[relevant_data$w == 1, outcome_var]\n",
    "    control_values <- relevant_data[relevant_data$w == 0, outcome_var]\n",
    "    mean(treatment_values) - mean(control_values)\n",
    "}"
   ]
  },
  {
   "cell_type": "code",
   "execution_count": 4,
   "metadata": {},
   "outputs": [],
   "source": [
    "get_model <- function(data, fml, outcome_var, frac_tr, frac_e, B, precision=4, adaptive_sampling=FALSE){\n",
    "\n",
    "    N <- nrow(data)\n",
    "    ntr <- frac_tr*N\n",
    "    ne <- frac_e*N\n",
    "    nb <- ntr + ne\n",
    "\n",
    "    trees <- list()\n",
    "    treatments <- list()\n",
    "    adaptive_samples <- matrix(1, nrow=B, ncol=nrow(data))\n",
    "\n",
    "    for(jj in 1:B){\n",
    "        if(jj %% 50 == 0){\n",
    "            cat(sprintf(\"Constructing tree %d\\n\", jj))\n",
    "        }\n",
    "\n",
    "        sub_sample <- sample(N, nb)\n",
    "\n",
    "        if(adaptive_sampling){\n",
    "            adaptive_samples[jj, sub_sample] <- 0    \n",
    "        }\n",
    "\n",
    "        train_indices <- sample(sub_sample, ntr)\n",
    "        estimation_indices <- setdiff(sub_sample, train_indices)\n",
    "        sampled_tr <- data[train_indices, ]\n",
    "        sampled_e <- data[estimation_indices, ]\n",
    "        cf <- get_causal_tree(fml, sampled_tr)\n",
    "\n",
    "        predictions <- predict(cf, newdata=sampled_e)\n",
    "        predictions <- sapply(predictions, function(t){as.character(round(t, precision))})\n",
    "        all_unique <- unique(predictions)\n",
    "\n",
    "        l <- list()\n",
    "        for(i in all_unique){\n",
    "            l[[i]] <- vector()\n",
    "        }\n",
    "\n",
    "        count = 1\n",
    "        for(i in predictions){\n",
    "            l[[i]] <- c(l[[i]], count)\n",
    "            count <- count + 1\n",
    "        }\n",
    "\n",
    "        treatment_effects <- list()\n",
    "        for(i in names(l)){\n",
    "            treatment_effects[[i]] <- get_treatment_effect(sampled_e, l[[i]], outcome_var)\n",
    "        }\n",
    "\n",
    "        trees[[jj]] <- cf\n",
    "        treatments[[jj]] <- treatment_effects\n",
    "    }\n",
    "    list(trees=trees, treatments=treatments, adaptive_samples=adaptive_samples)\n",
    "}"
   ]
  },
  {
   "cell_type": "code",
   "execution_count": 5,
   "metadata": {},
   "outputs": [],
   "source": [
    "make_prediction <- function(model, newdata, precision=4){\n",
    "    predictions <- vector(length=nrow(newdata))\n",
    "    trees <- model$trees\n",
    "    treatments <- model$treatments\n",
    "    adaptive_samples <- model$adaptive_samples\n",
    "    B <- length(trees)\n",
    "\n",
    "    for(i in 1:B){\n",
    "        cf <- trees[[i]]\n",
    "        treatment <- treatments[[i]]\n",
    "        all_predictions <- predict(cf, new_data=newdata)\n",
    "        all_predictions <- sapply(all_predictions, function(t){v <- as.character(round(t, precision)); as.numeric(treatment[[v]])})\n",
    "        predictions <- predictions + adaptive_samples[i]*all_predictions\n",
    "    }\n",
    "\n",
    "    predictions/colSums(adaptive_samples)\n",
    "}"
   ]
  },
  {
   "cell_type": "code",
   "execution_count": 6,
   "metadata": {
    "scrolled": true
   },
   "outputs": [],
   "source": [
    "do_regression <- function(data, treatment_effects, outcome_var, features){\n",
    "    threshold <- mean(treatment_effects)\n",
    "    positive_indices <- treatment_effects > threshold\n",
    "    negative_indices <- !positive_indices\n",
    "    positive_data <- data[positive_indices, ]\n",
    "    negative_data <- data[negative_indices, ]\n",
    "\n",
    "    modified_data <- cbind(data, positive=as.numeric(positive_indices), negative=as.numeric(negative_indices))\n",
    "    fml1 <- paste(outcome_var, \" ~ 0 + w + w:positive + \", paste(features, collapse=\" + \"))\n",
    "    fml2 <- paste(outcome_var, \" ~ 0 + w + w:negative + \", paste(features, collapse=\" + \"))\n",
    "    h1 <- lm(fml1, data=modified_data)\n",
    "    h2 <- lm(fml2, data=modified_data)\n",
    "    list(positive=h1, negative=h2)\n",
    "}"
   ]
  },
  {
   "cell_type": "code",
   "execution_count": 7,
   "metadata": {},
   "outputs": [],
   "source": [
    "library(foreign)\n",
    "\n",
    "features <- c(\"gender\", \"race\", \"g1surban\", \"g1freelunch\", \"g1tgen\", \"g1trace\", \"w\")\n",
    "\n",
    "data_source <- \"kindergarten.dta\"\n",
    "data <- read.dta(data_source)\n",
    "data <- data[data$flagsg1 == \"yes\",]\n",
    "data$y <- (data$g1tlistss + data$g1treadss + data$g1tmathss + data$g1wordskillss)\n",
    "data$w <- sapply(as.character(data$g1classtype), function(x){if(x == 'SMALL CLASS') return (1) else return (0)})\n",
    "                                                                     \n",
    "data <- remove_na(data, c(\"y\", \"w\", features))"
   ]
  },
  {
   "cell_type": "code",
   "execution_count": 8,
   "metadata": {},
   "outputs": [],
   "source": [
    "scores <- list()\n",
    "interaction <- list()\n",
    "beta <- 5\n",
    "feat <- head(features, -1)\n",
    "\n",
    "for(f in feat){\n",
    "    l1 <- list()\n",
    "    l2 <- list()\n",
    "    c <- sample(5:10, 1)\n",
    "\n",
    "    for(level in levels(data[[f]])){\n",
    "        l1[[level]] <- sample(seq(1, 10), 1)\n",
    "        l2[[level]] <- l1[[level]]/c\n",
    "    }\n",
    "    scores[[f]] <- l1\n",
    "    interaction[[f]] <- l2\n",
    "}"
   ]
  },
  {
   "cell_type": "code",
   "execution_count": 11,
   "metadata": {},
   "outputs": [],
   "source": [
    "get_scores <- function(row){\n",
    "#     feat <- head(features, -1)\n",
    "    feat <- c(\"gender\", \"race\", \"g1surban\", \"g1freelunch\", \"g1tgen\", \"g1trace\")\n",
    "\n",
    "    x <- 0\n",
    "    for(f in feat){\n",
    "        x <- x + scores[[f]][[row[[f]]]]\n",
    "    }\n",
    "    \n",
    "    x <- x + as.numeric(row[[\"w\"]])*(beta + rnorm(1, sd=1))\n",
    "    \n",
    "#     # interaction terms\n",
    "#     pairs <- list(c(\"gender\", \"race\"), c(\"race\", \"g1freelunch\"), c(\"gender\", \"g1freelunch\"))\n",
    "    \n",
    "#     for(pair in pairs){\n",
    "#         x <- x + scores[[pair[1]]][[row[[pair[1]]]]] * scores[[pair[2]]][[row[[pair[2]]]]]/(interaction[[pair[1]]][[row[[pair[1]]]]]*interaction[[pair[2]]][[row[[pair[2]]]]])\n",
    "#     }\n",
    "\n",
    "    x\n",
    "}"
   ]
  },
  {
   "cell_type": "code",
   "execution_count": 12,
   "metadata": {},
   "outputs": [],
   "source": [
    "data$y_tilde <- apply(data, 1, get_scores)\n",
    "data$noise <- sample(20:30, nrow(data), replace=TRUE)"
   ]
  },
  {
   "cell_type": "code",
   "execution_count": 44,
   "metadata": {
    "scrolled": true
   },
   "outputs": [
    {
     "name": "stdout",
     "output_type": "stream",
     "text": [
      "Constructing tree 50\n",
      "Constructing tree 100\n"
     ]
    }
   ],
   "source": [
    "features <- c(\"gender\", \"race\", \"g1surban\", \"g1freelunch\", \"g1tgen\", \"g1trace\")\n",
    "outcome_var <- \"y_tilde\"\n",
    "\n",
    "out <- paste(features, collapse=\"+\")\n",
    "causal_fml <- paste(outcome_var, \" ~ \", out, sep=\"\")\n",
    "model <- get_model(data, causal_fml, outcome_var, 0.1, 0.1, 100)"
   ]
  },
  {
   "cell_type": "code",
   "execution_count": 45,
   "metadata": {
    "scrolled": false
   },
   "outputs": [
    {
     "data": {
      "text/plain": [
       "$positive\n",
       "\n",
       "Call:\n",
       "lm(formula = fml1, data = modified_data)\n",
       "\n",
       "Coefficients:\n",
       "                        w                 gendermale  \n",
       "                  4.94733                   28.12160  \n",
       "             genderfemale                  raceblack  \n",
       "                 31.09582                    6.02493  \n",
       "                raceasian                  raceother  \n",
       "                 -0.12886                    7.79505  \n",
       "         g1surbansuburban              g1surbanrural  \n",
       "                 -6.96884                   -4.02214  \n",
       "            g1surbanurban  g1freelunchNON-FREE LUNCH  \n",
       "                 -3.01951                   -0.03627  \n",
       "             g1tgenfemale               g1traceblack  \n",
       "                  0.91895                   -2.04124  \n",
       "               w:positive  \n",
       "                 -0.01269  \n",
       "\n",
       "\n",
       "$negative\n",
       "\n",
       "Call:\n",
       "lm(formula = fml2, data = modified_data)\n",
       "\n",
       "Coefficients:\n",
       "                        w                 gendermale  \n",
       "                  4.93464                   28.12160  \n",
       "             genderfemale                  raceblack  \n",
       "                 31.09582                    6.02493  \n",
       "                raceasian                  raceother  \n",
       "                 -0.12886                    7.79505  \n",
       "         g1surbansuburban              g1surbanrural  \n",
       "                 -6.96884                   -4.02214  \n",
       "            g1surbanurban  g1freelunchNON-FREE LUNCH  \n",
       "                 -3.01951                   -0.03627  \n",
       "             g1tgenfemale               g1traceblack  \n",
       "                  0.91895                   -2.04124  \n",
       "               w:negative  \n",
       "                  0.01269  \n",
       "\n"
      ]
     },
     "metadata": {},
     "output_type": "display_data"
    }
   ],
   "source": [
    "treatment_effects <- make_prediction(model, data)\n",
    "h <- do_regression(data, treatment_effects, outcome_var, features)\n",
    "\n",
    "h"
   ]
  },
  {
   "cell_type": "code",
   "execution_count": 46,
   "metadata": {
    "scrolled": false
   },
   "outputs": [
    {
     "data": {
      "text/html": [
       "0.536694677871148"
      ],
      "text/latex": [
       "0.536694677871148"
      ],
      "text/markdown": [
       "0.536694677871148"
      ],
      "text/plain": [
       "[1] 0.5366947"
      ]
     },
     "metadata": {},
     "output_type": "display_data"
    },
    {
     "data": {
      "text/html": [
       "<table>\n",
       "<thead><tr><th></th><th scope=col>-1</th><th scope=col>1</th><th scope=col>MeanDecreaseAccuracy</th><th scope=col>MeanDecreaseGini</th></tr></thead>\n",
       "<tbody>\n",
       "\t<tr><th scope=row>gender</th><td> 7.387818 </td><td> 9.677185 </td><td>10.6650400</td><td>5.077742  </td></tr>\n",
       "\t<tr><th scope=row>race</th><td> 4.676626 </td><td>-3.842056 </td><td> 1.8064521</td><td>7.122670  </td></tr>\n",
       "\t<tr><th scope=row>g1surban</th><td> 2.156660 </td><td>-1.711860 </td><td> 0.9271855</td><td>8.642283  </td></tr>\n",
       "\t<tr><th scope=row>g1freelunch</th><td>-7.787220 </td><td> 5.550970 </td><td>-4.5973383</td><td>3.661430  </td></tr>\n",
       "\t<tr><th scope=row>g1tgen</th><td>-1.751659 </td><td> 2.234442 </td><td> 0.2855560</td><td>2.185464  </td></tr>\n",
       "\t<tr><th scope=row>g1trace</th><td> 2.312965 </td><td> 0.619978 </td><td> 6.3721658</td><td>4.406632  </td></tr>\n",
       "</tbody>\n",
       "</table>\n"
      ],
      "text/latex": [
       "\\begin{tabular}{r|llll}\n",
       "  & -1 & 1 & MeanDecreaseAccuracy & MeanDecreaseGini\\\\\n",
       "\\hline\n",
       "\tgender &  7.387818  &  9.677185  & 10.6650400 & 5.077742  \\\\\n",
       "\trace &  4.676626  & -3.842056  &  1.8064521 & 7.122670  \\\\\n",
       "\tg1surban &  2.156660  & -1.711860  &  0.9271855 & 8.642283  \\\\\n",
       "\tg1freelunch & -7.787220  &  5.550970  & -4.5973383 & 3.661430  \\\\\n",
       "\tg1tgen & -1.751659  &  2.234442  &  0.2855560 & 2.185464  \\\\\n",
       "\tg1trace &  2.312965  &  0.619978  &  6.3721658 & 4.406632  \\\\\n",
       "\\end{tabular}\n"
      ],
      "text/markdown": [
       "\n",
       "| <!--/--> | -1 | 1 | MeanDecreaseAccuracy | MeanDecreaseGini | \n",
       "|---|---|---|---|---|---|\n",
       "| gender |  7.387818  |  9.677185  | 10.6650400 | 5.077742   | \n",
       "| race |  4.676626  | -3.842056  |  1.8064521 | 7.122670   | \n",
       "| g1surban |  2.156660  | -1.711860  |  0.9271855 | 8.642283   | \n",
       "| g1freelunch | -7.787220  |  5.550970  | -4.5973383 | 3.661430   | \n",
       "| g1tgen | -1.751659  |  2.234442  |  0.2855560 | 2.185464   | \n",
       "| g1trace |  2.312965  |  0.619978  |  6.3721658 | 4.406632   | \n",
       "\n",
       "\n"
      ],
      "text/plain": [
       "            -1        1         MeanDecreaseAccuracy MeanDecreaseGini\n",
       "gender       7.387818  9.677185 10.6650400           5.077742        \n",
       "race         4.676626 -3.842056  1.8064521           7.122670        \n",
       "g1surban     2.156660 -1.711860  0.9271855           8.642283        \n",
       "g1freelunch -7.787220  5.550970 -4.5973383           3.661430        \n",
       "g1tgen      -1.751659  2.234442  0.2855560           2.185464        \n",
       "g1trace      2.312965  0.619978  6.3721658           4.406632        "
      ]
     },
     "metadata": {},
     "output_type": "display_data"
    },
    {
     "data": {
      "image/png": "[encoded data removed]",
      "text/plain": [
       "Plot with title “forest”"
      ]
     },
     "metadata": {},
     "output_type": "display_data"
    }
   ],
   "source": [
    "library(randomForest)\n",
    "\n",
    "tau <- treatment_effects - mean(treatment_effects)\n",
    "labels <- factor(2*as.numeric(tau > 0) - 1)\n",
    "\n",
    "rhs <- paste(features, collapse=\"+\")\n",
    "forml <- paste(\"labels ~\", rhs)\n",
    "\n",
    "forest <- randomForest(as.formula(forml), data=data.frame(data, labels=labels), importance=TRUE)\n",
    "\n",
    "sum(predict(forest, newdata=data) == labels)/length(labels)\n",
    "# sqrt(sum((predict(forest, newdata=data) - data$y_tilde)^2)/length(labels))\n",
    "\n",
    "importance(forest)\n",
    "options(repr.plot.width=4, repr.plot.height=3)\n",
    "varImpPlot(forest, type=1)"
   ]
  },
  {
   "cell_type": "code",
   "execution_count": 43,
   "metadata": {},
   "outputs": [
    {
     "data": {
      "text/plain": [
       "\n",
       "          white           black           asian        hispanic NATIVE AMERICAN \n",
       "           2466            1093               8               0               0 \n",
       "          other \n",
       "              3 "
      ]
     },
     "metadata": {},
     "output_type": "display_data"
    },
    {
     "data": {
      "text/plain": [
       "\n",
       "    FREE LUNCH NON-FREE LUNCH \n",
       "          1594           1976 "
      ]
     },
     "metadata": {},
     "output_type": "display_data"
    }
   ],
   "source": [
    "table(data[,\"race\"])\n",
    "table(data[,\"g1freelunch\"])"
   ]
  },
  {
   "cell_type": "code",
   "execution_count": 47,
   "metadata": {
    "scrolled": true
   },
   "outputs": [
    {
     "data": {
      "text/plain": [
       "\n",
       "Call:\n",
       "lm(formula = as.formula(forml), data = data.frame(data, labels = as.numeric(labels)))\n",
       "\n",
       "Coefficients:\n",
       "                   labels                          w  \n",
       "                 0.002616                   4.963962  \n",
       "               gendermale               genderfemale  \n",
       "                28.117524                  31.091695  \n",
       "                raceblack                  raceasian  \n",
       "                 6.025063                  -0.128493  \n",
       "                raceother           g1surbansuburban  \n",
       "                 7.794200                  -6.968722  \n",
       "            g1surbanrural              g1surbanurban  \n",
       "                -4.022010                  -3.019535  \n",
       "g1freelunchNON-FREE LUNCH               g1tgenfemale  \n",
       "                -0.036271                   0.918996  \n",
       "             g1traceblack                   labels:w  \n",
       "                -2.041280                  -0.015311  \n"
      ]
     },
     "metadata": {},
     "output_type": "display_data"
    },
    {
     "data": {
      "text/html": [
       "'y_tilde ~ 0+labels+w+labels:w+ gender+race+g1surban+g1freelunch+g1tgen+g1trace'"
      ],
      "text/latex": [
       "'y\\_tilde \\textasciitilde{} 0+labels+w+labels:w+ gender+race+g1surban+g1freelunch+g1tgen+g1trace'"
      ],
      "text/markdown": [
       "'y_tilde ~ 0+labels+w+labels:w+ gender+race+g1surban+g1freelunch+g1tgen+g1trace'"
      ],
      "text/plain": [
       "[1] \"y_tilde ~ 0+labels+w+labels:w+ gender+race+g1surban+g1freelunch+g1tgen+g1trace\""
      ]
     },
     "metadata": {},
     "output_type": "display_data"
    },
    {
     "data": {
      "text/html": [
       "<table>\n",
       "<thead><tr><th></th><th scope=col>Overall</th></tr></thead>\n",
       "<tbody>\n",
       "\t<tr><th scope=row>w</th><td> 76.0591859</td></tr>\n",
       "\t<tr><th scope=row>gendermale</th><td>196.3456293</td></tr>\n",
       "\t<tr><th scope=row>genderfemale</th><td>216.6773922</td></tr>\n",
       "\t<tr><th scope=row>raceblack</th><td>173.8978843</td></tr>\n",
       "\t<tr><th scope=row>raceasian</th><td>  0.6156675</td></tr>\n",
       "\t<tr><th scope=row>raceother</th><td> 22.8961298</td></tr>\n",
       "\t<tr><th scope=row>g1surbansuburban</th><td>178.0464309</td></tr>\n",
       "\t<tr><th scope=row>g1surbanrural</th><td> 97.1857648</td></tr>\n",
       "\t<tr><th scope=row>g1surbanurban</th><td> 59.5476129</td></tr>\n",
       "\t<tr><th scope=row>g1freelunchNON-FREE LUNCH</th><td>  1.5670757</td></tr>\n",
       "\t<tr><th scope=row>g1tgenfemale</th><td>  7.0743160</td></tr>\n",
       "\t<tr><th scope=row>g1traceblack</th><td> 64.3603046</td></tr>\n",
       "\t<tr><th scope=row>labels:w</th><td>  0.3699917</td></tr>\n",
       "</tbody>\n",
       "</table>\n"
      ],
      "text/latex": [
       "\\begin{tabular}{r|l}\n",
       "  & Overall\\\\\n",
       "\\hline\n",
       "\tw &  76.0591859\\\\\n",
       "\tgendermale & 196.3456293\\\\\n",
       "\tgenderfemale & 216.6773922\\\\\n",
       "\traceblack & 173.8978843\\\\\n",
       "\traceasian &   0.6156675\\\\\n",
       "\traceother &  22.8961298\\\\\n",
       "\tg1surbansuburban & 178.0464309\\\\\n",
       "\tg1surbanrural &  97.1857648\\\\\n",
       "\tg1surbanurban &  59.5476129\\\\\n",
       "\tg1freelunchNON-FREE LUNCH &   1.5670757\\\\\n",
       "\tg1tgenfemale &   7.0743160\\\\\n",
       "\tg1traceblack &  64.3603046\\\\\n",
       "\tlabels:w &   0.3699917\\\\\n",
       "\\end{tabular}\n"
      ],
      "text/markdown": [
       "\n",
       "| <!--/--> | Overall | \n",
       "|---|---|---|---|---|---|---|---|---|---|---|---|---|\n",
       "| w |  76.0591859 | \n",
       "| gendermale | 196.3456293 | \n",
       "| genderfemale | 216.6773922 | \n",
       "| raceblack | 173.8978843 | \n",
       "| raceasian |   0.6156675 | \n",
       "| raceother |  22.8961298 | \n",
       "| g1surbansuburban | 178.0464309 | \n",
       "| g1surbanrural |  97.1857648 | \n",
       "| g1surbanurban |  59.5476129 | \n",
       "| g1freelunchNON-FREE LUNCH |   1.5670757 | \n",
       "| g1tgenfemale |   7.0743160 | \n",
       "| g1traceblack |  64.3603046 | \n",
       "| labels:w |   0.3699917 | \n",
       "\n",
       "\n"
      ],
      "text/plain": [
       "                          Overall    \n",
       "w                          76.0591859\n",
       "gendermale                196.3456293\n",
       "genderfemale              216.6773922\n",
       "raceblack                 173.8978843\n",
       "raceasian                   0.6156675\n",
       "raceother                  22.8961298\n",
       "g1surbansuburban          178.0464309\n",
       "g1surbanrural              97.1857648\n",
       "g1surbanurban              59.5476129\n",
       "g1freelunchNON-FREE LUNCH   1.5670757\n",
       "g1tgenfemale                7.0743160\n",
       "g1traceblack               64.3603046\n",
       "labels:w                    0.3699917"
      ]
     },
     "metadata": {},
     "output_type": "display_data"
    }
   ],
   "source": [
    "forml <- paste(\"y_tilde ~ 0+labels+w+labels:w+\", paste(features, collapse=\"+\"))\n",
    "reg <- lm(as.formula(forml), data=data.frame(data, labels=as.numeric(labels)))\n",
    "reg\n",
    "forml\n",
    "\n",
    "library(caret)\n",
    "varImp(reg)"
   ]
  },
  {
   "cell_type": "code",
   "execution_count": 15,
   "metadata": {
    "scrolled": false
   },
   "outputs": [
    {
     "data": {
      "text/html": [
       "<dl>\n",
       "\t<dt>$gender</dt>\n",
       "\t\t<dd><table>\n",
       "<thead><tr><th></th><th scope=col>t1</th><th scope=col></th><th scope=col>t2</th><th scope=col></th></tr></thead>\n",
       "<tbody>\n",
       "\t<tr><th scope=row>male</th><td>868      </td><td>0.4857303</td><td>919      </td><td>0.5142697</td></tr>\n",
       "\t<tr><th scope=row>female</th><td>872      </td><td>0.4890634</td><td>911      </td><td>0.5109366</td></tr>\n",
       "</tbody>\n",
       "</table>\n",
       "</dd>\n",
       "\t<dt>$race</dt>\n",
       "\t\t<dd><table>\n",
       "<thead><tr><th></th><th scope=col>t1</th><th scope=col></th><th scope=col>t2</th><th scope=col></th></tr></thead>\n",
       "<tbody>\n",
       "\t<tr><th scope=row>white</th><td>1214     </td><td>0.4922952</td><td>1252     </td><td>0.5077048</td></tr>\n",
       "\t<tr><th scope=row>black</th><td> 521     </td><td>0.4766697</td><td> 572     </td><td>0.5233303</td></tr>\n",
       "\t<tr><th scope=row>asian</th><td>   4     </td><td>0.5000000</td><td>   4     </td><td>0.5000000</td></tr>\n",
       "\t<tr><th scope=row>hispanic</th><td>   0     </td><td>      NaN</td><td>   0     </td><td>      NaN</td></tr>\n",
       "\t<tr><th scope=row>NATIVE AMERICAN</th><td>   0     </td><td>      NaN</td><td>   0     </td><td>      NaN</td></tr>\n",
       "\t<tr><th scope=row>other</th><td>   1     </td><td>0.3333333</td><td>   2     </td><td>0.6666667</td></tr>\n",
       "</tbody>\n",
       "</table>\n",
       "</dd>\n",
       "\t<dt>$g1surban</dt>\n",
       "\t\t<dd><table>\n",
       "<thead><tr><th></th><th scope=col>t1</th><th scope=col></th><th scope=col>t2</th><th scope=col></th></tr></thead>\n",
       "<tbody>\n",
       "\t<tr><th scope=row>INNER CITY</th><td>343      </td><td>0.4907010</td><td>356      </td><td>0.5092990</td></tr>\n",
       "\t<tr><th scope=row>suburban</th><td>334      </td><td>0.4717514</td><td>374      </td><td>0.5282486</td></tr>\n",
       "\t<tr><th scope=row>rural</th><td>904      </td><td>0.4881210</td><td>948      </td><td>0.5118790</td></tr>\n",
       "\t<tr><th scope=row>urban</th><td>159      </td><td>0.5112540</td><td>152      </td><td>0.4887460</td></tr>\n",
       "</tbody>\n",
       "</table>\n",
       "</dd>\n",
       "\t<dt>$g1freelunch</dt>\n",
       "\t\t<dd><table>\n",
       "<thead><tr><th></th><th scope=col>t1</th><th scope=col></th><th scope=col>t2</th><th scope=col></th></tr></thead>\n",
       "<tbody>\n",
       "\t<tr><th scope=row>FREE LUNCH</th><td>775      </td><td>0.4861982</td><td> 819     </td><td>0.5138018</td></tr>\n",
       "\t<tr><th scope=row>NON-FREE LUNCH</th><td>965      </td><td>0.4883603</td><td>1011     </td><td>0.5116397</td></tr>\n",
       "</tbody>\n",
       "</table>\n",
       "</dd>\n",
       "\t<dt>$g1tgen</dt>\n",
       "\t\t<dd><table>\n",
       "<thead><tr><th></th><th scope=col>t1</th><th scope=col></th><th scope=col>t2</th><th scope=col></th></tr></thead>\n",
       "<tbody>\n",
       "\t<tr><th scope=row>male</th><td>   9     </td><td>0.4285714</td><td>  12     </td><td>0.5714286</td></tr>\n",
       "\t<tr><th scope=row>female</th><td>1731     </td><td>0.4877430</td><td>1818     </td><td>0.5122570</td></tr>\n",
       "</tbody>\n",
       "</table>\n",
       "</dd>\n",
       "\t<dt>$g1trace</dt>\n",
       "\t\t<dd><table>\n",
       "<thead><tr><th></th><th scope=col>t1</th><th scope=col></th><th scope=col>t2</th><th scope=col></th></tr></thead>\n",
       "<tbody>\n",
       "\t<tr><th scope=row>white</th><td>1434     </td><td>0.4836425</td><td>1531     </td><td>0.5163575</td></tr>\n",
       "\t<tr><th scope=row>black</th><td> 306     </td><td>0.5057851</td><td> 299     </td><td>0.4942149</td></tr>\n",
       "\t<tr><th scope=row>asian</th><td>   0     </td><td>      NaN</td><td>   0     </td><td>      NaN</td></tr>\n",
       "\t<tr><th scope=row>hispanic</th><td>   0     </td><td>      NaN</td><td>   0     </td><td>      NaN</td></tr>\n",
       "\t<tr><th scope=row>NATIVE AMERICAN</th><td>   0     </td><td>      NaN</td><td>   0     </td><td>      NaN</td></tr>\n",
       "\t<tr><th scope=row>other</th><td>   0     </td><td>      NaN</td><td>   0     </td><td>      NaN</td></tr>\n",
       "</tbody>\n",
       "</table>\n",
       "</dd>\n",
       "\t<dt>$w</dt>\n",
       "\t\t<dd><table>\n",
       "<thead><tr><th></th><th scope=col>t1</th><th scope=col></th><th scope=col>t2</th><th scope=col></th></tr></thead>\n",
       "<tbody>\n",
       "\t<tr><th scope=row>0</th><td>1128     </td><td>0.4855790</td><td>1195     </td><td>0.5144210</td></tr>\n",
       "\t<tr><th scope=row>1</th><td> 612     </td><td>0.4907779</td><td> 635     </td><td>0.5092221</td></tr>\n",
       "</tbody>\n",
       "</table>\n",
       "</dd>\n",
       "</dl>\n"
      ],
      "text/latex": [
       "\\begin{description}\n",
       "\\item[\\$gender] \\begin{tabular}{r|llll}\n",
       "  & t1 &  & t2 & \\\\\n",
       "\\hline\n",
       "\tmale & 868       & 0.4857303 & 919       & 0.5142697\\\\\n",
       "\tfemale & 872       & 0.4890634 & 911       & 0.5109366\\\\\n",
       "\\end{tabular}\n",
       "\n",
       "\\item[\\$race] \\begin{tabular}{r|llll}\n",
       "  & t1 &  & t2 & \\\\\n",
       "\\hline\n",
       "\twhite & 1214      & 0.4922952 & 1252      & 0.5077048\\\\\n",
       "\tblack &  521      & 0.4766697 &  572      & 0.5233303\\\\\n",
       "\tasian &    4      & 0.5000000 &    4      & 0.5000000\\\\\n",
       "\thispanic &    0      &       NaN &    0      &       NaN\\\\\n",
       "\tNATIVE AMERICAN &    0      &       NaN &    0      &       NaN\\\\\n",
       "\tother &    1      & 0.3333333 &    2      & 0.6666667\\\\\n",
       "\\end{tabular}\n",
       "\n",
       "\\item[\\$g1surban] \\begin{tabular}{r|llll}\n",
       "  & t1 &  & t2 & \\\\\n",
       "\\hline\n",
       "\tINNER CITY & 343       & 0.4907010 & 356       & 0.5092990\\\\\n",
       "\tsuburban & 334       & 0.4717514 & 374       & 0.5282486\\\\\n",
       "\trural & 904       & 0.4881210 & 948       & 0.5118790\\\\\n",
       "\turban & 159       & 0.5112540 & 152       & 0.4887460\\\\\n",
       "\\end{tabular}\n",
       "\n",
       "\\item[\\$g1freelunch] \\begin{tabular}{r|llll}\n",
       "  & t1 &  & t2 & \\\\\n",
       "\\hline\n",
       "\tFREE LUNCH & 775       & 0.4861982 &  819      & 0.5138018\\\\\n",
       "\tNON-FREE LUNCH & 965       & 0.4883603 & 1011      & 0.5116397\\\\\n",
       "\\end{tabular}\n",
       "\n",
       "\\item[\\$g1tgen] \\begin{tabular}{r|llll}\n",
       "  & t1 &  & t2 & \\\\\n",
       "\\hline\n",
       "\tmale &    9      & 0.4285714 &   12      & 0.5714286\\\\\n",
       "\tfemale & 1731      & 0.4877430 & 1818      & 0.5122570\\\\\n",
       "\\end{tabular}\n",
       "\n",
       "\\item[\\$g1trace] \\begin{tabular}{r|llll}\n",
       "  & t1 &  & t2 & \\\\\n",
       "\\hline\n",
       "\twhite & 1434      & 0.4836425 & 1531      & 0.5163575\\\\\n",
       "\tblack &  306      & 0.5057851 &  299      & 0.4942149\\\\\n",
       "\tasian &    0      &       NaN &    0      &       NaN\\\\\n",
       "\thispanic &    0      &       NaN &    0      &       NaN\\\\\n",
       "\tNATIVE AMERICAN &    0      &       NaN &    0      &       NaN\\\\\n",
       "\tother &    0      &       NaN &    0      &       NaN\\\\\n",
       "\\end{tabular}\n",
       "\n",
       "\\item[\\$w] \\begin{tabular}{r|llll}\n",
       "  & t1 &  & t2 & \\\\\n",
       "\\hline\n",
       "\t0 & 1128      & 0.4855790 & 1195      & 0.5144210\\\\\n",
       "\t1 &  612      & 0.4907779 &  635      & 0.5092221\\\\\n",
       "\\end{tabular}\n",
       "\n",
       "\\end{description}\n"
      ],
      "text/markdown": [
       "$gender\n",
       ":   \n",
       "| <!--/--> | t1 |  | t2 |  | \n",
       "|---|---|\n",
       "| male | 868       | 0.4857303 | 919       | 0.5142697 | \n",
       "| female | 872       | 0.4890634 | 911       | 0.5109366 | \n",
       "\n",
       "\n",
       "\n",
       "$race\n",
       ":   \n",
       "| <!--/--> | t1 |  | t2 |  | \n",
       "|---|---|---|---|---|---|\n",
       "| white | 1214      | 0.4922952 | 1252      | 0.5077048 | \n",
       "| black |  521      | 0.4766697 |  572      | 0.5233303 | \n",
       "| asian |    4      | 0.5000000 |    4      | 0.5000000 | \n",
       "| hispanic |    0      |       NaN |    0      |       NaN | \n",
       "| NATIVE AMERICAN |    0      |       NaN |    0      |       NaN | \n",
       "| other |    1      | 0.3333333 |    2      | 0.6666667 | \n",
       "\n",
       "\n",
       "\n",
       "$g1surban\n",
       ":   \n",
       "| <!--/--> | t1 |  | t2 |  | \n",
       "|---|---|---|---|\n",
       "| INNER CITY | 343       | 0.4907010 | 356       | 0.5092990 | \n",
       "| suburban | 334       | 0.4717514 | 374       | 0.5282486 | \n",
       "| rural | 904       | 0.4881210 | 948       | 0.5118790 | \n",
       "| urban | 159       | 0.5112540 | 152       | 0.4887460 | \n",
       "\n",
       "\n",
       "\n",
       "$g1freelunch\n",
       ":   \n",
       "| <!--/--> | t1 |  | t2 |  | \n",
       "|---|---|\n",
       "| FREE LUNCH | 775       | 0.4861982 |  819      | 0.5138018 | \n",
       "| NON-FREE LUNCH | 965       | 0.4883603 | 1011      | 0.5116397 | \n",
       "\n",
       "\n",
       "\n",
       "$g1tgen\n",
       ":   \n",
       "| <!--/--> | t1 |  | t2 |  | \n",
       "|---|---|\n",
       "| male |    9      | 0.4285714 |   12      | 0.5714286 | \n",
       "| female | 1731      | 0.4877430 | 1818      | 0.5122570 | \n",
       "\n",
       "\n",
       "\n",
       "$g1trace\n",
       ":   \n",
       "| <!--/--> | t1 |  | t2 |  | \n",
       "|---|---|---|---|---|---|\n",
       "| white | 1434      | 0.4836425 | 1531      | 0.5163575 | \n",
       "| black |  306      | 0.5057851 |  299      | 0.4942149 | \n",
       "| asian |    0      |       NaN |    0      |       NaN | \n",
       "| hispanic |    0      |       NaN |    0      |       NaN | \n",
       "| NATIVE AMERICAN |    0      |       NaN |    0      |       NaN | \n",
       "| other |    0      |       NaN |    0      |       NaN | \n",
       "\n",
       "\n",
       "\n",
       "$w\n",
       ":   \n",
       "| <!--/--> | t1 |  | t2 |  | \n",
       "|---|---|\n",
       "| 0 | 1128      | 0.4855790 | 1195      | 0.5144210 | \n",
       "| 1 |  612      | 0.4907779 |  635      | 0.5092221 | \n",
       "\n",
       "\n",
       "\n",
       "\n",
       "\n"
      ],
      "text/plain": [
       "$gender\n",
       "        t1            t2          \n",
       "male   868 0.4857303 919 0.5142697\n",
       "female 872 0.4890634 911 0.5109366\n",
       "\n",
       "$race\n",
       "                  t1             t2          \n",
       "white           1214 0.4922952 1252 0.5077048\n",
       "black            521 0.4766697  572 0.5233303\n",
       "asian              4 0.5000000    4 0.5000000\n",
       "hispanic           0       NaN    0       NaN\n",
       "NATIVE AMERICAN    0       NaN    0       NaN\n",
       "other              1 0.3333333    2 0.6666667\n",
       "\n",
       "$g1surban\n",
       "            t1            t2          \n",
       "INNER CITY 343 0.4907010 356 0.5092990\n",
       "suburban   334 0.4717514 374 0.5282486\n",
       "rural      904 0.4881210 948 0.5118790\n",
       "urban      159 0.5112540 152 0.4887460\n",
       "\n",
       "$g1freelunch\n",
       "                t1             t2          \n",
       "FREE LUNCH     775 0.4861982  819 0.5138018\n",
       "NON-FREE LUNCH 965 0.4883603 1011 0.5116397\n",
       "\n",
       "$g1tgen\n",
       "         t1             t2          \n",
       "male      9 0.4285714   12 0.5714286\n",
       "female 1731 0.4877430 1818 0.5122570\n",
       "\n",
       "$g1trace\n",
       "                  t1             t2          \n",
       "white           1434 0.4836425 1531 0.5163575\n",
       "black            306 0.5057851  299 0.4942149\n",
       "asian              0       NaN    0       NaN\n",
       "hispanic           0       NaN    0       NaN\n",
       "NATIVE AMERICAN    0       NaN    0       NaN\n",
       "other              0       NaN    0       NaN\n",
       "\n",
       "$w\n",
       "    t1             t2          \n",
       "0 1128 0.4855790 1195 0.5144210\n",
       "1  612 0.4907779  635 0.5092221\n"
      ]
     },
     "metadata": {},
     "output_type": "display_data"
    }
   ],
   "source": [
    "class1 <- data[tau > 0, ]\n",
    "class2 <- data[tau <= 0, ]\n",
    "\n",
    "# imp_features <- rownames(importance(forest))\n",
    "l_ <- list()\n",
    "\n",
    "for(f in features){\n",
    "    t1 <- table(class1[, f])\n",
    "    t2 <- table(class2[, f])\n",
    "    l_[[f]] <- cbind(t1, t1/(t1+t2), t2, t2/(t1+t2))\n",
    "}\n",
    "\n",
    "l_"
   ]
  }
 ],
 "metadata": {
  "kernelspec": {
   "display_name": "R",
   "language": "R",
   "name": "ir"
  },
  "language_info": {
   "codemirror_mode": "r",
   "file_extension": ".r",
   "mimetype": "text/x-r-source",
   "name": "R",
   "pygments_lexer": "r",
   "version": "3.2.3"
  }
 },
 "nbformat": 4,
 "nbformat_minor": 2
}
